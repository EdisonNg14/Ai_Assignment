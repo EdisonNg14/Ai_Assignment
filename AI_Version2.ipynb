{
 "cells": [
  {
   "cell_type": "code",
   "execution_count": 1,
   "id": "17e07f70-ef0d-4949-bd0d-b8fe13c0470f",
   "metadata": {},
   "outputs": [
    {
     "name": "stdout",
     "output_type": "stream",
     "text": [
      "\n",
      "DataFrame after KNN Imputation:\n",
      "    age   income\n",
      "0  25.0  50000.0\n",
      "1  23.5  60000.0\n",
      "2  22.0  52000.0\n",
      "3  35.0  51000.0\n",
      "4  23.5  59000.0\n"
     ]
    }
   ],
   "source": [
    "from sklearn.impute import KNNImputer\n",
    "import pandas as pd\n",
    "import numpy as np\n",
    "\n",
    "# Sample dataset\n",
    "data = {'age': [25, np.nan, 22, 35, np.nan],\n",
    "        'income': [50000, 60000, 52000, np.nan, 59000],\n",
    "        'city': ['New York', 'Los Angeles', np.nan, 'Chicago', 'Houston']}\n",
    "\n",
    "df = pd.DataFrame(data)\n",
    "\n",
    "# KNN can only work with numerical values, so we drop non-numerical columns\n",
    "df_numeric = df[['age', 'income']]\n",
    "\n",
    "# Initialize KNNImputer with k=2 (2 nearest neighbors)\n",
    "imputer = KNNImputer(n_neighbors=2)\n",
    "\n",
    "# Perform the imputation\n",
    "df_imputed = imputer.fit_transform(df_numeric)\n",
    "\n",
    "# Convert the result back to a DataFrame\n",
    "df_imputed = pd.DataFrame(df_imputed, columns=['age', 'income'])\n",
    "\n",
    "print(\"\\nDataFrame after KNN Imputation:\")\n",
    "print(df_imputed)\n"
   ]
  },
  {
   "cell_type": "code",
   "execution_count": null,
   "id": "06b11efd-c0e8-4baa-bd0b-3d416d6d8733",
   "metadata": {},
   "outputs": [],
   "source": []
  }
 ],
 "metadata": {
  "kernelspec": {
   "display_name": "Python 3 (ipykernel)",
   "language": "python",
   "name": "python3"
  },
  "language_info": {
   "codemirror_mode": {
    "name": "ipython",
    "version": 3
   },
   "file_extension": ".py",
   "mimetype": "text/x-python",
   "name": "python",
   "nbconvert_exporter": "python",
   "pygments_lexer": "ipython3",
   "version": "3.12.4"
  }
 },
 "nbformat": 4,
 "nbformat_minor": 5
}
